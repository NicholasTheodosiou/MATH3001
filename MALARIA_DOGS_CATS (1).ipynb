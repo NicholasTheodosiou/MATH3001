{
 "cells": [
  {
   "cell_type": "markdown",
   "metadata": {},
   "source": [
    "First the required packages are installed. Numpy allows for large array and matrix operations. Matplotlib is used for plotting the required figures. Cv2 is an open computer vision library, os is used for interacting with the operating system and random is used when randomly shuffling our data. Tqdm is used to show progress bars when iterating. Then we import the relevant literature from keras. Sequential is the model used for stacking layers. Dense, Dropout, Activation and flatten are core layers imported from keras. Finally, Conv2D and MaxPooling2D are keras layers used in CNNs:"
   ]
  },
  {
   "cell_type": "code",
   "execution_count": 4,
   "metadata": {},
   "outputs": [
    {
     "name": "stdout",
     "output_type": "stream",
     "text": [
      "2.1.0\n"
     ]
    }
   ],
   "source": [
    "\n",
    "import tensorflow as tf\n",
    "from tensorflow import keras\n",
    "\n",
    "# Helper libraries\n",
    "import numpy as np\n",
    "import matplotlib.pyplot as plt\n",
    "import cv2\n",
    "import os\n",
    "import random\n",
    "from tqdm import tqdm\n",
    "from keras import optimizers\n",
    "from tensorflow.keras.preprocessing.image import ImageDataGenerator\n",
    "from tensorflow.keras.models import Sequential\n",
    "from tensorflow.keras.layers import Dense, Dropout, Activation, Flatten\n",
    "from tensorflow.keras.layers import Conv2D, MaxPooling2D\n",
    "\n",
    "print(tf.__version__)"
   ]
  },
  {
   "cell_type": "markdown",
   "metadata": {},
   "source": [
    "Here we set the working directory and define the datasets. The data is already split into training and testing sets. The image size is also fixed to 50 for later use:"
   ]
  },
  {
   "cell_type": "code",
   "execution_count": 5,
   "metadata": {},
   "outputs": [],
   "source": [
    "#CATS V DOGS:\n",
    "\n",
    "DATADIR = r\"C:\\Users\\theod\\Desktop\\2K19-20 Modules\\Deep Learning\\dl-medical-imaging\\malaria2\"\n",
    "#setting directory\n",
    "CATEGORIES_TRAINING = [\"Infected_train\", \"Uninfected_train\"]\n",
    "CATEGORIES_TESTING = [\"Infected_test\", \"Uninfected_test\"]\n",
    "\n",
    "#adjusting image size\n",
    "IMG_SIZE =50"
   ]
  },
  {
   "cell_type": "markdown",
   "metadata": {},
   "source": [
    "The training set is created by appending our empty list in an iterative manner. Progress bars show that the two subsets of the training set (Infected and Uninfected) including the same number of images are complete:"
   ]
  },
  {
   "cell_type": "code",
   "execution_count": 6,
   "metadata": {},
   "outputs": [
    {
     "name": "stderr",
     "output_type": "stream",
     "text": [
      "100%|██████████| 9887/9887 [00:21<00:00, 466.81it/s]\n",
      "100%|██████████| 9887/9887 [00:14<00:00, 678.90it/s]\n"
     ]
    }
   ],
   "source": [
    "#creating training data\n",
    "training_data = []\n",
    "def create_training_data():\n",
    "    for category in CATEGORIES_TRAINING:  # do infected & uninfected\n",
    "\n",
    "        path = os.path.join(DATADIR,category)  # create path to infected & uninfected\n",
    "        class_num = CATEGORIES_TRAINING.index(category)  # get the classification  (0 or a 1). 0=Infected 1=Uninfected\n",
    "\n",
    "        for img in tqdm(os.listdir(path)):  # iterate over each image per infected & uninfected\n",
    "            try:\n",
    "                img_array = cv2.imread(os.path.join(path,img),cv2.IMREAD_GRAYSCALE)  # convert to array\n",
    "                new_array = cv2.resize(img_array, (IMG_SIZE, IMG_SIZE))  # resize to normalize data size\n",
    "                training_data.append([new_array, class_num])  #append the array\n",
    "            except Exception as e: \n",
    "                pass\n",
    "          \n",
    "create_training_data()\n",
    "#randomly shuffling the training data           \n"
   ]
  },
  {
   "cell_type": "markdown",
   "metadata": {},
   "source": [
    "The training data is randomly shuffled in order to prevent overfitting (prevent the model from learning that the first 50% of the dataset will always be uninfected). Next, two distinct arrays are created, with to pixel arrays and  corresponding labels:"
   ]
  },
  {
   "cell_type": "code",
   "execution_count": 7,
   "metadata": {
    "scrolled": true
   },
   "outputs": [
    {
     "name": "stdout",
     "output_type": "stream",
     "text": [
      "0\n",
      "0\n",
      "1\n",
      "0\n",
      "0\n",
      "1\n",
      "0\n",
      "0\n",
      "0\n",
      "1\n",
      "1\n",
      "0\n",
      "1\n",
      "1\n",
      "1\n",
      "0\n",
      "1\n",
      "1\n",
      "0\n",
      "1\n",
      "19774\n"
     ]
    }
   ],
   "source": [
    "random.shuffle(training_data)\n",
    "for sample in training_data[:20]:\n",
    "    print(sample[1])\n",
    "print(len(training_data))\n",
    "\n",
    "x_train = []\n",
    "y_train = []\n",
    "\n",
    "for features,label in training_data:\n",
    "    x_train.append(features)\n",
    "    y_train.append(label)\n",
    "x_train = np.array(x_train).reshape(-1, IMG_SIZE, IMG_SIZE, 1)\n",
    "y_train = np.array(y_train)"
   ]
  },
  {
   "cell_type": "markdown",
   "metadata": {},
   "source": [
    "We repeat exactly the same process for the test data, appending in an iterative manner and then randomly shuffling:"
   ]
  },
  {
   "cell_type": "code",
   "execution_count": 8,
   "metadata": {},
   "outputs": [
    {
     "name": "stderr",
     "output_type": "stream",
     "text": [
      "100%|██████████| 2726/2726 [00:12<00:00, 222.96it/s]\n",
      "100%|██████████| 2786/2786 [00:11<00:00, 237.52it/s]"
     ]
    },
    {
     "name": "stdout",
     "output_type": "stream",
     "text": [
      "5512\n",
      "1\n",
      "0\n",
      "1\n",
      "1\n",
      "1\n",
      "1\n",
      "0\n",
      "0\n",
      "0\n",
      "1\n",
      "1\n",
      "1\n",
      "1\n",
      "1\n",
      "1\n",
      "0\n",
      "1\n",
      "1\n",
      "0\n",
      "0\n"
     ]
    },
    {
     "name": "stderr",
     "output_type": "stream",
     "text": [
      "\n"
     ]
    }
   ],
   "source": [
    "#Do the same for test data  \n",
    "test_data = []\n",
    "def create_test_data():\n",
    "    for category in CATEGORIES_TESTING:  # do infected & uninfected\n",
    "\n",
    "        path = os.path.join(DATADIR,category)  # create path to infected & uninfected\n",
    "        class_num = CATEGORIES_TESTING.index(category)  # get the classification  (0 or a 1). 0=Infected 1=Uninfected\n",
    "\n",
    "        for img in tqdm(os.listdir(path)):  # iterate over each image per infected & uninfected\n",
    "            try:\n",
    "                img_array = cv2.imread(os.path.join(path,img),cv2.IMREAD_GRAYSCALE)  # convert to array\n",
    "                new_array = cv2.resize(img_array, (IMG_SIZE, IMG_SIZE))  # resize to normalize data size\n",
    "                test_data.append([new_array, class_num])  # add this to our training_data\n",
    "            except Exception as e:  # in the interest in keeping the output clean...\n",
    "                pass\n",
    "            #except OSError as e:\n",
    "            #    print(\"OSErrroBad img most likely\", e, os.path.join(path,img))\n",
    "            #except Exception as e:\n",
    "            #    print(\"general exception\", e, os.path.join(path,img))\n",
    "\n",
    "create_test_data()\n",
    "random.shuffle(test_data)\n",
    "\n",
    "print(len(test_data))\n",
    "x_test = []\n",
    "y_test = []\n",
    "for sample in test_data[:20]:\n",
    "    print(sample[1])\n",
    "for features,label in test_data:\n",
    "    x_test.append(features)\n",
    "    y_test.append(label)\n",
    "\n",
    "\n",
    "x_test = np.array(x_test).reshape(-1, IMG_SIZE, IMG_SIZE, 1)\n",
    "y_test = np.array(y_test)"
   ]
  },
  {
   "cell_type": "markdown",
   "metadata": {},
   "source": [
    "We normalize our data. Most of the time coloured images range from 0 pixels (black) to 255 pixels (white). We rescale by dividing each image by 255 in order to get values between 0 and 1. This simplifies the process:"
   ]
  },
  {
   "cell_type": "code",
   "execution_count": 9,
   "metadata": {},
   "outputs": [],
   "source": [
    "x_train = x_train/255\n",
    "x_test = x_test/255"
   ]
  },
  {
   "cell_type": "markdown",
   "metadata": {},
   "source": [
    "Here we construct the convolutional neural network that will be used for the training phase. The CNN consists of two convolutional layers that use a ReLU as an activation function. Each convolutional layer is followed by a max pooling layer. Finally, the CNN uses a fully connected layer with a ReLU activation before returning the outputs through a softmax function:"
   ]
  },
  {
   "cell_type": "code",
   "execution_count": 10,
   "metadata": {},
   "outputs": [],
   "source": [
    "model = Sequential()\n",
    "\n",
    "model.add(Conv2D(256, (3, 3), input_shape=x_train.shape[1:]))\n",
    "model.add(Activation('relu'))\n",
    "model.add(MaxPooling2D(pool_size=(2, 2)))\n",
    "\n",
    "model.add(Conv2D(256, (3, 3)))\n",
    "model.add(Activation('relu'))\n",
    "model.add(MaxPooling2D(pool_size=(2, 2)))\n",
    "\n",
    "model.add(Flatten())  # this converts our 3D feature maps to 1D feature vectors\n",
    "\n",
    "model.add(Dense(64))\n",
    "model.add(Activation('relu'))\n",
    "\n",
    "model.add(Dense(2))\n",
    "model.add(Activation('softmax'))\n",
    "\n",
    "model.compile(loss='sparse_categorical_crossentropy',\n",
    "              optimizer='adam',\n",
    "              metrics=['accuracy'])"
   ]
  },
  {
   "cell_type": "markdown",
   "metadata": {},
   "source": [
    "We run the model usinf 30% of the training data for validation. We iterate 3 times, with a cumulative running time of approximately 27 minutes. With each iteration we can see the mimisation of the loss function Finally we achieve approximately 93% of both training and validation accuracy:"
   ]
  },
  {
   "cell_type": "code",
   "execution_count": 11,
   "metadata": {},
   "outputs": [
    {
     "name": "stdout",
     "output_type": "stream",
     "text": [
      "Train on 13841 samples, validate on 5933 samples\n",
      "Epoch 1/3\n",
      "13841/13841 [==============================] - 629s 45ms/sample - loss: 0.6702 - accuracy: 0.5875 - val_loss: 0.6316 - val_accuracy: 0.6300\n",
      "Epoch 2/3\n",
      "13841/13841 [==============================] - 532s 38ms/sample - loss: 0.4171 - accuracy: 0.8046 - val_loss: 0.2197 - val_accuracy: 0.9236\n",
      "Epoch 3/3\n",
      "13841/13841 [==============================] - 440s 32ms/sample - loss: 0.1908 - accuracy: 0.9301 - val_loss: 0.1848 - val_accuracy: 0.9346\n"
     ]
    },
    {
     "data": {
      "text/plain": [
       "<tensorflow.python.keras.callbacks.History at 0x1bfc6a5e5c0>"
      ]
     },
     "execution_count": 11,
     "metadata": {},
     "output_type": "execute_result"
    }
   ],
   "source": [
    "model.fit(x_train, y_train, batch_size=32, epochs=3, validation_split=0.3)"
   ]
  },
  {
   "cell_type": "markdown",
   "metadata": {},
   "source": [
    "Here we evaluate the accuracy on unseen images, i.e. test dataset. The corresponding test accuracy is 94%:"
   ]
  },
  {
   "cell_type": "code",
   "execution_count": 12,
   "metadata": {},
   "outputs": [
    {
     "name": "stdout",
     "output_type": "stream",
     "text": [
      "5512/5512 - 41s - loss: 0.1574 - accuracy: 0.9425\n",
      "\n",
      "Test accuracy: 0.9424891\n"
     ]
    }
   ],
   "source": [
    "class_names = ['Infected','Uninfected']\n",
    "\n",
    "\n",
    "\n",
    "test_loss, test_acc = model.evaluate(x_test,  y_test, verbose=2)\n",
    "\n",
    "print('\\nTest accuracy:', test_acc) #Comparing loss and accuracy"
   ]
  },
  {
   "cell_type": "markdown",
   "metadata": {},
   "source": [
    "Now that the training phase is complete we can use the built in softmax layer to return predictions for test images as probability arrays (2 elemets, each representing the probability of an image belonging to one of the two classes). We print the predictions for the second test image, together with the class it belongs to:"
   ]
  },
  {
   "cell_type": "code",
   "execution_count": 13,
   "metadata": {},
   "outputs": [
    {
     "name": "stdout",
     "output_type": "stream",
     "text": [
      "[0.72336704 0.27663305]\n",
      "0\n"
     ]
    }
   ],
   "source": [
    "probability_model = tf.keras.Sequential([model, \n",
    "                                        tf.keras.layers.Softmax()])\n",
    "predictions = probability_model.predict(x_test)\n",
    "\n",
    "print(predictions[1])#Shows array of probabilites \n",
    "print(np.argmax(predictions[1]))"
   ]
  },
  {
   "cell_type": "markdown",
   "metadata": {},
   "source": [
    "Finally we define two function that can plot the above results. We want the function to plot colour bars for each probability, together with both the predicted and original label. The first function is used for plotting images tohether with the corresponding labels while the second one plots the bar charts. The label in the bracket is the true label. If the predicted label is not the same then both the labels and charts are highlited red."
   ]
  },
  {
   "cell_type": "code",
   "execution_count": 14,
   "metadata": {},
   "outputs": [],
   "source": [
    "def plot_image(i, predictions_array, true_label, img):\n",
    "  predictions_array, true_label, img = predictions_array, true_label[i], img[i]\n",
    "  plt.grid(False)\n",
    "  plt.xticks([])\n",
    "  plt.yticks([])\n",
    "\n",
    "  plt.imshow(img, cmap=plt.cm.binary)\n",
    "\n",
    "  predicted_label = np.argmax(predictions_array)\n",
    "  if predicted_label == true_label:\n",
    "    color = 'blue'\n",
    "  else:\n",
    "    color = 'red'\n",
    "\n",
    "  plt.xlabel(\"{} {:2.0f}% ({})\".format(class_names[predicted_label],\n",
    "                                100*np.max(predictions_array), #100%\n",
    "                                class_names[true_label]),\n",
    "                                color=color)\n"
   ]
  },
  {
   "cell_type": "code",
   "execution_count": 15,
   "metadata": {},
   "outputs": [],
   "source": [
    "x_test = x_test.reshape(5512,50,50)    #add an extra dimension"
   ]
  },
  {
   "cell_type": "code",
   "execution_count": 16,
   "metadata": {},
   "outputs": [],
   "source": [
    "def plot_value_array(i, predictions_array, true_label):\n",
    "  predictions_array, true_label = predictions_array, true_label[i]\n",
    "  plt.grid(False)\n",
    "  plt.xticks(range(2))\n",
    "  plt.yticks([])\n",
    "  thisplot = plt.bar(range(2), predictions_array, color=\"#777777\")\n",
    "  plt.ylim([0, 1])\n",
    "  predicted_label = np.argmax(predictions_array)\n",
    "\n",
    "  thisplot[predicted_label].set_color('red')\n",
    "  thisplot[true_label].set_color('blue')"
   ]
  },
  {
   "cell_type": "markdown",
   "metadata": {},
   "source": [
    "Finally, we plot some results, getting the required outcome:"
   ]
  },
  {
   "cell_type": "code",
   "execution_count": 17,
   "metadata": {},
   "outputs": [
    {
     "data": {
      "image/png": "[encoded data removed]",
      "text/plain": [
       "<Figure size 432x216 with 2 Axes>"
      ]
     },
     "metadata": {
      "needs_background": "light"
     },
     "output_type": "display_data"
    }
   ],
   "source": [
    "i = 0 #0th image, correect prediction is blue, incoreect is red\n",
    "plt.figure(figsize=(6,3))\n",
    "plt.subplot(1,2,1)\n",
    "plot_image(i, predictions[i], y_test, x_test)\n",
    "plt.subplot(1,2,2)\n",
    "plot_value_array(i, predictions[i],  y_test)\n",
    "plt.show()\n"
   ]
  },
  {
   "cell_type": "code",
   "execution_count": 18,
   "metadata": {},
   "outputs": [
    {
     "data": {
      "image/png": "[encoded data removed]",
      "text/plain": [
       "<Figure size 864x720 with 30 Axes>"
      ]
     },
     "metadata": {
      "needs_background": "light"
     },
     "output_type": "display_data"
    }
   ],
   "source": [
    "#Predictions for the first 15 images:\n",
    "num_rows = 5\n",
    "num_cols = 3\n",
    "num_images = num_rows*num_cols\n",
    "plt.figure(figsize=(2*2*num_cols, 2*num_rows))\n",
    "for i in range(num_images):\n",
    "  plt.subplot(num_rows, 2*num_cols, 2*i+1)\n",
    "  plot_image(i, predictions[i], y_test, x_test)\n",
    "  plt.subplot(num_rows, 2*num_cols, 2*i+2)\n",
    "  plot_value_array(i, predictions[i], y_test)\n",
    "plt.tight_layout()\n",
    "plt.show()"
   ]
  },
  {
   "cell_type": "markdown",
   "metadata": {},
   "source": [
    "We notice that all of the predictions for the first 15 images are correct with an average confidence slightly over 70%."
   ]
  }
 ],
 "metadata": {
  "kernelspec": {
   "display_name": "Python 3",
   "language": "python",
   "name": "python3"
  },
  "language_info": {
   "codemirror_mode": {
    "name": "ipython",
    "version": 3
   },
   "file_extension": ".py",
   "mimetype": "text/x-python",
   "name": "python",
   "nbconvert_exporter": "python",
   "pygments_lexer": "ipython3",
   "version": "3.6.10"
  }
 },
 "nbformat": 4,
 "nbformat_minor": 4
}
